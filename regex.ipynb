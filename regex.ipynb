{
  "nbformat": 4,
  "nbformat_minor": 0,
  "metadata": {
    "colab": {
      "name": "regex.ipynb",
      "provenance": [],
      "authorship_tag": "ABX9TyNNtcgvhNpctTlD5QkK7oWn",
      "include_colab_link": true
    },
    "kernelspec": {
      "name": "python3",
      "display_name": "Python 3"
    },
    "language_info": {
      "name": "python"
    }
  },
  "cells": [
    {
      "cell_type": "markdown",
      "metadata": {
        "id": "view-in-github",
        "colab_type": "text"
      },
      "source": [
        "<a href=\"https://colab.research.google.com/github/GezhinOleg/PyDa/blob/main/regex.ipynb\" target=\"_parent\"><img src=\"https://colab.research.google.com/assets/colab-badge.svg\" alt=\"Open In Colab\"/></a>"
      ]
    },
    {
      "cell_type": "code",
      "metadata": {
        "id": "hOvGSBKlL2Xi"
      },
      "source": [
        "Напишите функцию, которая принимает на вход строку и проверяет является ли она\n",
        "валидным транспортным номером (1 буква, 3 цифры, 2 буквы, 2-3 цифры).\n",
        "Обратите внимание, что не все буквы кириллического алфавита используются в\n",
        "транспортных номерах.\n",
        "Если номер валиден, то функция должна возвращать отдельно номер и регион.\n",
        "Примеры работы программы:\n",
        "    car_id = 'A222BC96'\n",
        "Результат: Номер A222BС валиден. Регион: 96\n",
        "    car_id = 'АБ22ВВ193'\n",
        "Результат: Номер не валиден"
      ],
      "execution_count": null,
      "outputs": []
    },
    {
      "cell_type": "code",
      "metadata": {
        "id": "UViGnTx0MLu1"
      },
      "source": [
        "import re"
      ],
      "execution_count": null,
      "outputs": []
    },
    {
      "cell_type": "code",
      "metadata": {
        "id": "iCC8fmgDMO0t"
      },
      "source": [
        "def valid_number(str_car_number):\n",
        "    result = ''\n",
        "    try:\n",
        "        car_number = re.compile(r'(^[АВЕКМНОРСТУХABEKMHOPCTYX]\\d{3}(?<!000)[АВЕКМНОРСТУХABEKMHOPCTYX]{2})(\\d{2,3}$)')\n",
        "        valid_number = car_number.search(str_car_number)\n",
        "        result = f'Номер {valid_number.group(1)} валиден. Регион: {valid_number.group(2)}'\n",
        "    except Exception:\n",
        "        result = 'Номер не валиден.'\n",
        "    return result"
      ],
      "execution_count": null,
      "outputs": []
    },
    {
      "cell_type": "markdown",
      "metadata": {
        "id": "LpF8LWr6MTw9"
      },
      "source": [
        "Напишите функцию, которая будет удалять все последовательные повторы\n",
        "слов из заданной строки при помощи регулярных выражений."
      ]
    },
    {
      "cell_type": "code",
      "metadata": {
        "id": "fBBRtQosMW55"
      },
      "source": [
        "def string_split(str_sp):\n",
        "    string_be_split = re.sub(r'\\b([^\\W\\d_]+)(\\s+\\1)+\\b', r'\\1', str_sp)\n",
        "    return string_be_split"
      ],
      "execution_count": null,
      "outputs": []
    },
    {
      "cell_type": "markdown",
      "metadata": {
        "id": "Qu5RS3qMMbtC"
      },
      "source": [
        "Напишите функцию, которая будет возвращать акроним по переданной в\n",
        "нее строке со словами."
      ]
    },
    {
      "cell_type": "code",
      "metadata": {
        "id": "6-eWZwDrMe04"
      },
      "source": [
        "def string_upper(str_sp):\n",
        "    string_be_split =  re.findall(r'\\b\\w', str_sp)\n",
        "    # st = string_be_split.search(str_sp)\n",
        "    result = (''.join(string_be_split)).upper()\n",
        "    return result"
      ],
      "execution_count": null,
      "outputs": []
    },
    {
      "cell_type": "markdown",
      "metadata": {
        "id": "I1lq3DpCMieg"
      },
      "source": [
        "Напишите функцию, которая будет принимать на вход список email-адресов и\n",
        "выводить их распределение по доменным зонам."
      ]
    },
    {
      "cell_type": "code",
      "metadata": {
        "id": "tb5qdQemMlXP"
      },
      "source": [
        "def email_domian():\n",
        "    emails = ['test@gmail.com', 'xyz@test.in', 'test@ya.ru', 'xyz@mail.ru', 'xyz@ya.ru', 'xyz@gmail.com']\n",
        "    email_string = ','.join(emails)\n",
        "    e_lst = re.findall(r'@\\w+.\\w+', email_string)\n",
        "    cnt_lst = []\n",
        "    for i in e_lst:\n",
        "        if i in cnt_lst:\n",
        "            continue\n",
        "        else:\n",
        "            cnt_lst.append(i)\n",
        "            print(i, ':', e_lst.count(i))"
      ],
      "execution_count": null,
      "outputs": []
    },
    {
      "cell_type": "markdown",
      "metadata": {
        "id": "lM0trR3PMpEs"
      },
      "source": [
        "Напишите функцию, которая будет подсчитывать сколько слов начинается на\n",
        "гласные, а сколько на согласные буквы в тексте (текст может быть написан\n",
        "как с использованием букв кириллицы, так и латиницы)."
      ]
    },
    {
      "cell_type": "code",
      "metadata": {
        "id": "nEps2WVBMs5l"
      },
      "source": [
        "def get_vowels_consonants(some_text):\n",
        "    count_vowels = re.findall(r'\\b[aeiouAEIOUаеёиоуыэюяАЕЁИОУЫЭЮЯ]\\w+', some_text)\n",
        "    count_consonants = re.findall(r'\\b[^aeiouAEIOUаеёиоуыэюяАЕЁИОУЫЭЮЯ ]\\w+', some_text)\n",
        "    print('Слов на гласные буквы: ', len(count_vowels))\n",
        "    print('Слов на согласные буквы: ', len(count_consonants))"
      ],
      "execution_count": null,
      "outputs": []
    },
    {
      "cell_type": "code",
      "metadata": {
        "id": "_aeNxQ3WMwhE"
      },
      "source": [
        "if __name__ == '__main__':\n",
        "    call = input('Введите n, st, ak, em, cn и нажмите Enter: ')\n",
        "    if call == 'n':\n",
        "        print(valid_number('А222BC96'))\n",
        "    elif call == 'st':\n",
        "        print(string_split(r'Напишите функцию функцию, которая будет будет будет будет удалять все все все все последовательные повторы слов из из из из заданной строки строки при помощи регулярных выражений.'))\n",
        "    elif call == 'ak':\n",
        "        print(string_upper('Напишите функцию'))\n",
        "    elif call == 'em':\n",
        "        email_domian()\n",
        "    elif call == 'cn':\n",
        "        get_vowels_consonants(r'Эталонной реализацией Python является интерпретатор CPython, поддерживающий большинство активно используемых платформ. Он распространяется под свободной лицензией Python Software Foundation License, позволяющей использовать его без ограничений в любых приложениях, включая проприетарные.')\n",
        "    elif call == 'cn':\n",
        "        get_vowels_consonants()"
      ],
      "execution_count": null,
      "outputs": []
    },
    {
      "cell_type": "markdown",
      "metadata": {
        "id": "Pqznoz5FL-q7"
      },
      "source": [
        ""
      ]
    }
  ]
}